{
  "nbformat": 4,
  "nbformat_minor": 0,
  "metadata": {
    "colab": {
      "provenance": [],
      "authorship_tag": "ABX9TyPy6WE8l0b10toCrndEGWo8",
      "include_colab_link": true
    },
    "kernelspec": {
      "name": "python3",
      "display_name": "Python 3"
    },
    "language_info": {
      "name": "python"
    }
  },
  "cells": [
    {
      "cell_type": "markdown",
      "metadata": {
        "id": "view-in-github",
        "colab_type": "text"
      },
      "source": [
        "<a href=\"https://colab.research.google.com/github/Tariqameenkhan/Gemini-API-chatbot/blob/main/Chatbot.ipynb\" target=\"_parent\"><img src=\"https://colab.research.google.com/assets/colab-badge.svg\" alt=\"Open In Colab\"/></a>"
      ]
    },
    {
      "cell_type": "code",
      "source": [
        "# chatbot\n",
        "!pip install google-generativeai\n",
        "!pip install -q -U google-generativeai"
      ],
      "metadata": {
        "id": "wgbOqQqQSsEm"
      },
      "execution_count": null,
      "outputs": []
    },
    {
      "cell_type": "code",
      "execution_count": null,
      "metadata": {
        "colab": {
          "base_uri": "https://localhost:8080/",
          "height": 243
        },
        "id": "MRzlUNX71tZ6",
        "outputId": "5ddb35e8-6baf-4aac-d096-8a095fe38ce7"
      },
      "outputs": [
        {
          "name": "stdout",
          "output_type": "stream",
          "text": [
            "How can i help you ? : explain car in 20 word\n",
            "Generating response...\n",
            "A self-propelled vehicle for land transport, typically with four wheels and an internal combustion engine.\n",
            "\n",
            "How can i help you ? : explain computer in 20 word\n",
            "Generating response...\n",
            "A programmable electronic device that processes information, performing calculations and executing instructions.\n",
            "\n",
            "How can i help you ? : exit\n"
          ]
        },
        {
          "output_type": "execute_result",
          "data": {
            "text/plain": [
              "[{'user': 'explain car in 20 word',\n",
              "  'response': 'A self-propelled vehicle for land transport, typically with four wheels and an internal combustion engine.\\n'},\n",
              " {'user': 'explain computer in 20 word',\n",
              "  'response': 'A programmable electronic device that processes information, performing calculations and executing instructions.\\n'}]"
            ]
          },
          "metadata": {},
          "execution_count": 14
        }
      ],
      "source": [
        "# method 1\n",
        "import google.generativeai as genai\n",
        "from google.colab import userdata\n",
        "GEMINI_API_KEY = userdata.get('GEMINI_API_KEY')\n",
        "genai.configure(api_key=GEMINI_API_KEY)\n",
        "\n",
        "model = genai.GenerativeModel(\"gemini-1.5-flash\")\n",
        "\n",
        "user_input_history = []\n",
        "\n",
        "while True:\n",
        "    user_input = input(\"How can i help you ? : \")\n",
        "    if user_input.lower() == \"exit\":\n",
        "        break\n",
        "    print(\"Generating response...\")\n",
        "    response = model.generate_content(user_input)\n",
        "    print(response.text)\n",
        "    user_input_history.append({\"user\": user_input, \"response\": response.text})\n",
        "user_input_history\n",
        "\n",
        "\n"
      ]
    },
    {
      "cell_type": "code",
      "source": [
        "# chatbot Method 2\n",
        "import google.generativeai as genai\n",
        "from google.colab import userdata\n",
        "\n",
        "\n",
        "GEMINI_API_KEY = userdata.get('GEMINI_API_KEY')\n",
        "genai.configure(api_key=GEMINI_API_KEY)\n",
        "\n",
        "model = genai.GenerativeModel(\"gemini-1.5-flash\")\n",
        "\n",
        "user_input_history = []\n",
        "\n",
        "while True:\n",
        "    user_input = input(\"How can I help you? : \")\n",
        "    if user_input.lower() == \"exit\":\n",
        "        break\n",
        "\n",
        "    print(\"Generating response...\")\n",
        "    try:\n",
        "        response = model.generate_content(user_input)\n",
        "        print(response.text)\n",
        "        user_input_history.append({\"user\": user_input, \"response\": response.text})\n",
        "    except Exception as e:\n",
        "        print(f\"An error occurred: {e}\")\n",
        "\n",
        "user_input_history"
      ],
      "metadata": {
        "colab": {
          "base_uri": "https://localhost:8080/",
          "height": 243
        },
        "id": "aiBxRf_hFPb7",
        "outputId": "940013c6-f95f-4e6e-fd11-7646fd7a8326"
      },
      "execution_count": null,
      "outputs": [
        {
          "name": "stdout",
          "output_type": "stream",
          "text": [
            "How can I help you? : explain car in 20 word\n",
            "Generating response...\n",
            "A self-propelled vehicle designed for land transportation, typically carrying passengers.\n",
            "\n",
            "How can I help you? : explain computer in 20 word\n",
            "Generating response...\n",
            "A programmable machine processing information, performing calculations, and executing instructions.\n",
            "\n",
            "How can I help you? : exit\n"
          ]
        },
        {
          "output_type": "execute_result",
          "data": {
            "text/plain": [
              "[{'user': 'explain car in 20 word',\n",
              "  'response': 'A self-propelled vehicle designed for land transportation, typically carrying passengers.\\n'},\n",
              " {'user': 'explain computer in 20 word',\n",
              "  'response': 'A programmable machine processing information, performing calculations, and executing instructions.\\n'}]"
            ]
          },
          "metadata": {},
          "execution_count": 13
        }
      ]
    }
  ]
}